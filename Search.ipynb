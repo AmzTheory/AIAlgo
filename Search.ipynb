{
 "cells": [
  {
   "cell_type": "code",
   "execution_count": 1,
   "metadata": {},
   "outputs": [],
   "source": [
    "from Search import *\n",
    "from Frontier import *\n",
    "from Problems import *"
   ]
  },
  {
   "cell_type": "code",
   "execution_count": 29,
   "metadata": {},
   "outputs": [],
   "source": [
    "romania_map = Graph(dict(\n",
    "    Arad=dict(Zerind=75, Sibiu=140, Timisoara=118),\n",
    "    Bucharest=dict(Urziceni=85, Pitesti=101, Giurgiu=90, Fagaras=211),\n",
    "    Craiova=dict(Drobeta=120, Rimnicu=146, Pitesti=138),\n",
    "    Drobeta=dict(Mehadia=75,Craiova=183),\n",
    "    Eforie=dict(Hirsova=86),\n",
    "    Fagaras=dict(Sibiu=99,Bucharest=211),\n",
    "    Hirsova=dict(Urziceni=98,Eforie=86),\n",
    "    Iasi=dict(Vaslui=92, Neamt=87),\n",
    "    Lugoj=dict(Timisoara=111, Mehadia=70),\n",
    "    Oradea=dict(Zerind=71, Sibiu=151),\n",
    "    Pitesti=dict(Rimnicu=97,Bucharest=101,Craiova=183),\n",
    "    Rimnicu=dict(Sibiu=80,Pitesti=97),\n",
    "    Urziceni=dict(Vaslui=142,Bucharest=85,Hirsova=98),\n",
    "    Zerind=dict(Oradea=71,Arad=75),\n",
    "    Timisoara=dict(Lugoj=111,Arad=118),\n",
    "    Medhadia=dict(Lugoj=70,Drobeta=75),\n",
    "    Sibiu=dict(Fagaras=99,Rimnicu=80),\n",
    "    Giurgiu=dict(Bucharest=90),\n",
    "    Vaslui=dict(Urziceni=142,Iasi=92),\n",
    "    Neamt=dict(Iasi=87)))\n",
    "h={\"Arad\":366,\n",
    "   \"Bucharest\":0,\n",
    "   \"Craiova\":160,\n",
    "   \"Drobeta\":242,\"Eforie\":161,\"Fagaras\":176,\n",
    "  \"Giurgiu\":77,\"Hirsova\":151,\"Iasi\":226,\"Lugoj\":244,\n",
    "  \"Mehadia\":241,\"Neamt\":234,\"Oradea\":380,\"Pitesti\":100,\n",
    "  \"Rimnicu\":193,\"Sibiu\":253,\"Timisoara\":329,\"Urziceni\":80,\n",
    "  \"Vaslui\":199,\"Zerind\":374}"
   ]
  },
  {
   "cell_type": "code",
   "execution_count": 40,
   "metadata": {},
   "outputs": [],
   "source": [
    "prob=NavigationProblem(romania_map,h,\"Zerind\",\"Bucharest\")\n",
    "\n",
    "sols={\n",
    "      \"Uniform\":uniformSearch(prob),\n",
    "      \"Greedy\" :greedyFirstSearch(prob),\n",
    "      \"A*\"     :aStar(prob)\n",
    "     }"
   ]
  },
  {
   "cell_type": "code",
   "execution_count": 41,
   "metadata": {},
   "outputs": [
    {
     "name": "stdout",
     "output_type": "stream",
     "text": [
      "Uniform ['Zerind', 'Oradea', 'Zerind', 'Arad', 'Zerind', 'Arad', 'Sibiu', 'Rimnicu', 'Pitesti', 'Bucharest'] 785\n",
      "Greedy ['Zerind', 'Arad', 'Sibiu', 'Fagaras', 'Bucharest'] 525\n",
      "A* ['Zerind', 'Arad', 'Sibiu', 'Rimnicu', 'Pitesti', 'Bucharest'] 493\n"
     ]
    }
   ],
   "source": [
    "for k,v in sols.items():\n",
    "    print(k,v.getSolution(),v.total)"
   ]
  },
  {
   "cell_type": "code",
   "execution_count": 21,
   "metadata": {},
   "outputs": [
    {
     "ename": "AttributeError",
     "evalue": "'NoneType' object has no attribute 'state'",
     "output_type": "error",
     "traceback": [
      "\u001b[1;31m---------------------------------------------------------------------------\u001b[0m",
      "\u001b[1;31mAttributeError\u001b[0m                            Traceback (most recent call last)",
      "\u001b[1;32m<ipython-input-21-0d4679311d4b>\u001b[0m in \u001b[0;36m<module>\u001b[1;34m\u001b[0m\n\u001b[1;32m----> 1\u001b[1;33m \u001b[0maStar\u001b[0m\u001b[1;33m(\u001b[0m\u001b[0mprob\u001b[0m\u001b[1;33m)\u001b[0m\u001b[1;33m.\u001b[0m\u001b[0mstate\u001b[0m\u001b[1;33m\u001b[0m\u001b[1;33m\u001b[0m\u001b[0m\n\u001b[0m",
      "\u001b[1;31mAttributeError\u001b[0m: 'NoneType' object has no attribute 'state'"
     ]
    }
   ],
   "source": []
  },
  {
   "cell_type": "code",
   "execution_count": null,
   "metadata": {},
   "outputs": [],
   "source": []
  }
 ],
 "metadata": {
  "kernelspec": {
   "display_name": "Python 3",
   "language": "python",
   "name": "python3"
  },
  "language_info": {
   "codemirror_mode": {
    "name": "ipython",
    "version": 3
   },
   "file_extension": ".py",
   "mimetype": "text/x-python",
   "name": "python",
   "nbconvert_exporter": "python",
   "pygments_lexer": "ipython3",
   "version": "3.7.3"
  }
 },
 "nbformat": 4,
 "nbformat_minor": 2
}
